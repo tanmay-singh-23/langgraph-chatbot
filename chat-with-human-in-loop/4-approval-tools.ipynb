{
 "cells": [
  {
   "cell_type": "code",
   "execution_count": 3,
   "id": "dfed3e91",
   "metadata": {},
   "outputs": [],
   "source": [
    "from langgraph.graph import StateGraph, START, END, add_messages\n",
    "from typing import TypedDict, Annotated, List\n",
    "from langgraph.checkpoint.memory import MemorySaver\n",
    "from langchain_groq import ChatGroq\n",
    "from langchain_tavily import TavilySearch\n",
    "from langgraph.prebuilt import ToolNode\n",
    "from langchain_core.messages import HumanMessage\n",
    "\n",
    "memory = MemorySaver()\n",
    "\n",
    "search_tool = TavilySearch(max_results=2, topic=\"general\")\n",
    "tools = [search_tool]\n",
    "\n",
    "llm = ChatGroq(model=\"llama-3.1-8b-instant\")\n",
    "llm_with_tools = llm.bind_tools(tools=tools)\n",
    "\n",
    "class BasicState(TypedDict): \n",
    "    messages: Annotated[List, add_messages]\n",
    "\n",
    "def model(state: BasicState): \n",
    "    return {\n",
    "        \"messages\": [llm_with_tools.invoke(state[\"messages\"])]\n",
    "    }\n",
    "\n",
    "def tools_router(state: BasicState): \n",
    "    last_message = state[\"messages\"][-1]\n",
    "    if(hasattr(last_message, \"tool_calls\") and len(last_message.tool_calls) > 0):\n",
    "        return \"tools\"\n",
    "    else: \n",
    "        return END\n",
    "\n",
    "\n",
    "graph = StateGraph(BasicState)\n",
    "graph.add_node(model, \"model\")\n",
    "graph.add_node(\"tools\", ToolNode(tools=tools))\n",
    "\n",
    "graph.set_entry_point(\"model\")\n",
    "graph.add_conditional_edges(\"model\", tools_router)\n",
    "\n",
    "graph.add_edge(\"tools\", \"model\")\n",
    "\n",
    "app = graph.compile(checkpointer=memory, interrupt_before=[\"tools\"])"
   ]
  },
  {
   "cell_type": "code",
   "execution_count": 3,
   "id": "a96d0868",
   "metadata": {},
   "outputs": [
    {
     "data": {
      "image/png": "[encoded data removed]",
      "text/plain": [
       "<IPython.core.display.Image object>"
      ]
     },
     "metadata": {},
     "output_type": "display_data"
    }
   ],
   "source": [
    "from IPython.display import Image, display\n",
    "\n",
    "display(Image(app.get_graph().draw_mermaid_png()))"
   ]
  },
  {
   "cell_type": "code",
   "execution_count": 33,
   "id": "551c74de",
   "metadata": {},
   "outputs": [
    {
     "name": "stdout",
     "output_type": "stream",
     "text": [
      "================================\u001b[1m Human Message \u001b[0m=================================\n",
      "\n",
      "What is the current weather in Chennai?\n",
      "==================================\u001b[1m Ai Message \u001b[0m==================================\n",
      "Tool Calls:\n",
      "  tavily_search (tbk81t76z)\n",
      " Call ID: tbk81t76z\n",
      "  Args:\n",
      "    query: Current weather in Chennai time now\n",
      "    topic: news\n"
     ]
    }
   ],
   "source": [
    "config = {\"configurable\": {\n",
    "    \"thread_id\": 1\n",
    "}}\n",
    "\n",
    "events = app.stream({\n",
    "    \"messages\": [HumanMessage(content=\"What is the current weather in Chennai?\")]\n",
    "}, config=config, stream_mode=\"values\")\n",
    "\n",
    "for event in events:\n",
    "    event[\"messages\"][-1].pretty_print()"
   ]
  },
  {
   "cell_type": "code",
   "execution_count": 32,
   "id": "12ccbf04",
   "metadata": {},
   "outputs": [
    {
     "data": {
      "text/plain": [
       "()"
      ]
     },
     "execution_count": 32,
     "metadata": {},
     "output_type": "execute_result"
    }
   ],
   "source": [
    "snapshot = app.get_state(config=config)\n",
    "snapshot.next"
   ]
  },
  {
   "cell_type": "code",
   "execution_count": 34,
   "id": "eeeb7ebd",
   "metadata": {},
   "outputs": [
    {
     "name": "stdout",
     "output_type": "stream",
     "text": [
      "==================================\u001b[1m Ai Message \u001b[0m==================================\n",
      "Tool Calls:\n",
      "  tavily_search (tbk81t76z)\n",
      " Call ID: tbk81t76z\n",
      "  Args:\n",
      "    query: Current weather in Chennai time now\n",
      "    topic: news\n",
      "=================================\u001b[1m Tool Message \u001b[0m=================================\n",
      "Name: tavily_search\n",
      "\n",
      "{\"query\": \"Current weather in Chennai time now\", \"follow_up_questions\": null, \"answer\": null, \"images\": [], \"results\": [{\"title\": \"Weather in Chennai\", \"url\": \"https://www.weatherapi.com/\", \"content\": \"{'location': {'name': 'Chennai', 'region': 'Tamil Nadu', 'country': 'India', 'lat': 13.0833, 'lon': 80.2833, 'tz_id': 'Asia/Kolkata', 'localtime_epoch': 1753809399, 'localtime': '2025-07-29 22:46'}, 'current': {'last_updated_epoch': 1753809300, 'last_updated': '2025-07-29 22:45', 'temp_c': 32.4, 'temp_f': 90.3, 'is_day': 0, 'condition': {'text': 'Partly cloudy', 'icon': '//cdn.weatherapi.com/weather/64x64/night/116.png', 'code': 1003}, 'wind_mph': 14.3, 'wind_kph': 23.0, 'wind_degree': 275, 'wind_dir': 'W', 'pressure_mb': 1006.0, 'pressure_in': 29.71, 'precip_mm': 0.0, 'precip_in': 0.0, 'humidity': 59, 'cloud': 50, 'feelslike_c': 35.7, 'feelslike_f': 96.3, 'windchill_c': 31.7, 'windchill_f': 89.1, 'heatindex_c': 34.4, 'heatindex_f': 93.9, 'dewpoint_c': 20.1, 'dewpoint_f': 68.2, 'vis_km': 6.0, 'vis_miles': 3.0, 'uv': 0.0, 'gust_mph': 24.9, 'gust_kph': 40.0}}\", \"score\": 0.960713, \"raw_content\": null}, {\"url\": \"https://timesofindia.indiatimes.com/weather/chennai-weather-forecast-today/600017\", \"title\": \"Chennai Weather Forecast 29 Jul 2025 - Times of India\", \"content\": \"Today's Weather in Chennai: In Chennai today, the weather is expected to be Partly Cloudy with a maximum temperature of 37°C and a minimum of 28°C . Sunrise in Chennai is set for 05:53 AM and sunset at 06:37 PM Atmospheric pressure will be around 100.6 kPa with humidity at 57.\", \"score\": 0.9392538, \"raw_content\": null}], \"response_time\": 1.69}\n",
      "==================================\u001b[1m Ai Message \u001b[0m==================================\n",
      "\n",
      "The current weather in Chennai is partly cloudy with a temperature of 32.4°C (90.3°F) and a humidity of 59%.\n"
     ]
    }
   ],
   "source": [
    "events = app.stream(None, config, stream_mode=\"values\")\n",
    "for event in events:\n",
    "    event[\"messages\"][-1].pretty_print()"
   ]
  }
 ],
 "metadata": {
  "kernelspec": {
   "display_name": "vevn",
   "language": "python",
   "name": "python3"
  },
  "language_info": {
   "codemirror_mode": {
    "name": "ipython",
    "version": 3
   },
   "file_extension": ".py",
   "mimetype": "text/x-python",
   "name": "python",
   "nbconvert_exporter": "python",
   "pygments_lexer": "ipython3",
   "version": "3.12.7"
  }
 },
 "nbformat": 4,
 "nbformat_minor": 5
}
